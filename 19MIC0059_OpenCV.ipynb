{
 "cells": [
  {
   "cell_type": "code",
   "execution_count": 1,
   "id": "a8170e54",
   "metadata": {},
   "outputs": [],
   "source": [
    "import cv2"
   ]
  },
  {
   "cell_type": "code",
   "execution_count": 2,
   "id": "2c8ccdbe",
   "metadata": {},
   "outputs": [],
   "source": [
    "#How do you understand an image?\n",
    "#A Multidimensional Array - Has Rows and Columns - Each value is a pixel value\n",
    "#3*3 Array = 9 pixels; 8 bits: 0-255; 0 - Black, 255 - Gray\n"
   ]
  },
  {
   "cell_type": "code",
   "execution_count": 3,
   "id": "fe62b2d0",
   "metadata": {},
   "outputs": [],
   "source": [
    "import numpy"
   ]
  },
  {
   "cell_type": "code",
   "execution_count": 5,
   "id": "9dda8dff",
   "metadata": {},
   "outputs": [],
   "source": [
    "img = numpy.zeros((3,3),dtype = numpy.uint8)"
   ]
  },
  {
   "cell_type": "code",
   "execution_count": 8,
   "id": "052252c3",
   "metadata": {},
   "outputs": [
    {
     "name": "stdout",
     "output_type": "stream",
     "text": [
      "[[0 0 0]\n",
      " [0 0 0]\n",
      " [0 0 0]]\n",
      "(3, 3)\n"
     ]
    }
   ],
   "source": [
    "print(img)\n",
    "print(img.shape)"
   ]
  },
  {
   "cell_type": "code",
   "execution_count": 9,
   "id": "31b75cc3",
   "metadata": {},
   "outputs": [],
   "source": [
    "#Converting a Gray-scale Image to Color Image\n",
    "img1 = cv2.cvtColor(img,cv2.COLOR_GRAY2BGR)  #BGR color channel"
   ]
  },
  {
   "cell_type": "code",
   "execution_count": 12,
   "id": "4a45fdc3",
   "metadata": {},
   "outputs": [
    {
     "name": "stdout",
     "output_type": "stream",
     "text": [
      "[[[0 0 0]\n",
      "  [0 0 0]\n",
      "  [0 0 0]]\n",
      "\n",
      " [[0 0 0]\n",
      "  [0 0 0]\n",
      "  [0 0 0]]\n",
      "\n",
      " [[0 0 0]\n",
      "  [0 0 0]\n",
      "  [0 0 0]]]\n",
      "(3, 3, 3)\n"
     ]
    }
   ],
   "source": [
    "print(img1)\n",
    "print(img1.shape)"
   ]
  },
  {
   "cell_type": "code",
   "execution_count": 29,
   "id": "747663b8",
   "metadata": {},
   "outputs": [],
   "source": [
    "image = cv2.imread('C:/Users/lenovo/Downloads/Paint.JPG')"
   ]
  },
  {
   "cell_type": "code",
   "execution_count": 30,
   "id": "161dbbea",
   "metadata": {},
   "outputs": [
    {
     "data": {
      "text/plain": [
       "True"
      ]
     },
     "execution_count": 30,
     "metadata": {},
     "output_type": "execute_result"
    }
   ],
   "source": [
    "cv2.imwrite('C:/Users/lenovo/Downloads/Paint.PNG',image)"
   ]
  },
  {
   "cell_type": "code",
   "execution_count": 32,
   "id": "b762fe3e",
   "metadata": {},
   "outputs": [
    {
     "name": "stdout",
     "output_type": "stream",
     "text": [
      "[[[255 255 255]\n",
      "  [255 255 255]\n",
      "  [255 255 255]\n",
      "  ...\n",
      "  [255 255 255]\n",
      "  [255 255 255]\n",
      "  [255 255 255]]\n",
      "\n",
      " [[255 255 255]\n",
      "  [255 255 255]\n",
      "  [255 255 255]\n",
      "  ...\n",
      "  [255 255 255]\n",
      "  [255 255 255]\n",
      "  [255 255 255]]\n",
      "\n",
      " [[255 255 255]\n",
      "  [255 255 255]\n",
      "  [255 255 255]\n",
      "  ...\n",
      "  [255 255 255]\n",
      "  [255 255 255]\n",
      "  [255 255 255]]\n",
      "\n",
      " ...\n",
      "\n",
      " [[255 255 255]\n",
      "  [255 255 255]\n",
      "  [255 255 255]\n",
      "  ...\n",
      "  [255 255 255]\n",
      "  [255 255 255]\n",
      "  [255 255 255]]\n",
      "\n",
      " [[255 255 255]\n",
      "  [255 255 255]\n",
      "  [255 255 255]\n",
      "  ...\n",
      "  [255 255 255]\n",
      "  [255 255 255]\n",
      "  [255 255 255]]\n",
      "\n",
      " [[255 255 255]\n",
      "  [255 255 255]\n",
      "  [255 255 255]\n",
      "  ...\n",
      "  [255 255 255]\n",
      "  [255 255 255]\n",
      "  [255 255 255]]]\n",
      "(240, 240, 3)\n"
     ]
    }
   ],
   "source": [
    "print(image)\n",
    "print(image.shape)"
   ]
  },
  {
   "cell_type": "code",
   "execution_count": 33,
   "id": "b14d5b33",
   "metadata": {},
   "outputs": [
    {
     "name": "stdout",
     "output_type": "stream",
     "text": [
      "(240, 240, 3)\n"
     ]
    }
   ],
   "source": [
    "print(image.shape)"
   ]
  },
  {
   "cell_type": "code",
   "execution_count": 28,
   "id": "03dec87d",
   "metadata": {},
   "outputs": [],
   "source": [
    "import os\n",
    "randomByteArray = bytearray(os.urandom(120000))\n",
    "flatnumpyarray = numpy.array(randomByteArray)"
   ]
  },
  {
   "cell_type": "code",
   "execution_count": 34,
   "id": "9d6451f3",
   "metadata": {},
   "outputs": [],
   "source": [
    "bgrImage = flatnumpyarray.reshape(100,400,3)\n"
   ]
  },
  {
   "cell_type": "code",
   "execution_count": 36,
   "id": "7b4cbedf",
   "metadata": {},
   "outputs": [
    {
     "data": {
      "text/plain": [
       "True"
      ]
     },
     "execution_count": 36,
     "metadata": {},
     "output_type": "execute_result"
    }
   ],
   "source": [
    "cv2.imwrite('randomBGR.png',bgrImage)"
   ]
  },
  {
   "cell_type": "code",
   "execution_count": null,
   "id": "a2aaaeb2",
   "metadata": {},
   "outputs": [],
   "source": []
  }
 ],
 "metadata": {
  "kernelspec": {
   "display_name": "Python 3",
   "language": "python",
   "name": "python3"
  },
  "language_info": {
   "codemirror_mode": {
    "name": "ipython",
    "version": 3
   },
   "file_extension": ".py",
   "mimetype": "text/x-python",
   "name": "python",
   "nbconvert_exporter": "python",
   "pygments_lexer": "ipython3",
   "version": "3.8.8"
  }
 },
 "nbformat": 4,
 "nbformat_minor": 5
}
